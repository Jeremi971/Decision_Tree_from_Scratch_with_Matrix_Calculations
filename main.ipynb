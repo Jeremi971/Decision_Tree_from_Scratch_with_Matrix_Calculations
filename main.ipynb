{
  "cells": [
    {
      "cell_type": "code",
      "execution_count": 81,
      "metadata": {
        "id": "O7wmFYH60WYX"
      },
      "outputs": [],
      "source": [
        "import pandas as pd\n",
        "import numpy as np\n",
        "import math\n",
        "from sklearn.utils import shuffle\n",
        "import matplotlib.pyplot as plt\n",
        "from io import StringIO"
      ]
    },
    {
      "cell_type": "code",
      "execution_count": 82,
      "metadata": {
        "id": "747FHLYk0q7_"
      },
      "outputs": [],
      "source": [
        "df_sncf = pd.read_csv(filepath_or_buffer='data/emission-co2-tgv.csv',sep=';')"
      ]
    },
    {
      "cell_type": "code",
      "execution_count": 83,
      "metadata": {
        "colab": {
          "base_uri": "https://localhost:8080/",
          "height": 825
        },
        "id": "4CVlQwsT0tj7",
        "outputId": "d1f370f7-8343-4b35-c658-0c0778af1ecd"
      },
      "outputs": [
        {
          "data": {
            "text/html": [
              "<div>\n",
              "<style scoped>\n",
              "    .dataframe tbody tr th:only-of-type {\n",
              "        vertical-align: middle;\n",
              "    }\n",
              "\n",
              "    .dataframe tbody tr th {\n",
              "        vertical-align: top;\n",
              "    }\n",
              "\n",
              "    .dataframe thead th {\n",
              "        text-align: right;\n",
              "    }\n",
              "</style>\n",
              "<table border=\"1\" class=\"dataframe\">\n",
              "  <thead>\n",
              "    <tr style=\"text-align: right;\">\n",
              "      <th></th>\n",
              "      <th>Type de trajet</th>\n",
              "      <th>Origine</th>\n",
              "      <th>Origine_uic</th>\n",
              "      <th>Destination</th>\n",
              "      <th>Destination_uic</th>\n",
              "      <th>Liaison</th>\n",
              "      <th>Distance (km)</th>\n",
              "      <th>TGV (1 pers.) - Empreinte CO2e (kgCO2e/voyageur)</th>\n",
              "      <th>TGV (3 pers.) - Empreinte CO2e (kgCO2e/voyageur)</th>\n",
              "      <th>Voiture (autosolisme 1 pers.) - Empreinte CO2e (kgCO2e/voyageur)</th>\n",
              "      <th>Voiture (covoiturage 3 pers.) - Empreinte CO2e (kgCO2e/voyageur)</th>\n",
              "    </tr>\n",
              "  </thead>\n",
              "  <tbody>\n",
              "    <tr>\n",
              "      <th>0</th>\n",
              "      <td>Province/Province</td>\n",
              "      <td>Bordeaux Saint-Jean</td>\n",
              "      <td>87581009</td>\n",
              "      <td>Champagne-Ardenne TGV</td>\n",
              "      <td>87171926</td>\n",
              "      <td>Bordeaux Saint-Jean - Champagne-Ardenne TGV</td>\n",
              "      <td>700.061</td>\n",
              "      <td>1.897165</td>\n",
              "      <td>5.691496</td>\n",
              "      <td>135.111773</td>\n",
              "      <td>45.037258</td>\n",
              "    </tr>\n",
              "    <tr>\n",
              "      <th>1</th>\n",
              "      <td>Province/Province</td>\n",
              "      <td>Bordeaux Saint-Jean</td>\n",
              "      <td>87581009</td>\n",
              "      <td>Lorraine TGV</td>\n",
              "      <td>87142109</td>\n",
              "      <td>Bordeaux Saint-Jean - Lorraine TGV</td>\n",
              "      <td>867.618</td>\n",
              "      <td>2.351245</td>\n",
              "      <td>7.053734</td>\n",
              "      <td>167.450274</td>\n",
              "      <td>55.816758</td>\n",
              "    </tr>\n",
              "    <tr>\n",
              "      <th>2</th>\n",
              "      <td>Province/Province</td>\n",
              "      <td>Nantes</td>\n",
              "      <td>87481002</td>\n",
              "      <td>Brest</td>\n",
              "      <td>87474007</td>\n",
              "      <td>Nantes - Brest</td>\n",
              "      <td>593.333</td>\n",
              "      <td>1.607932</td>\n",
              "      <td>4.823797</td>\n",
              "      <td>76.912623</td>\n",
              "      <td>25.637541</td>\n",
              "    </tr>\n",
              "    <tr>\n",
              "      <th>3</th>\n",
              "      <td>Province/Province</td>\n",
              "      <td>Nantes</td>\n",
              "      <td>87481002</td>\n",
              "      <td>Toulouse Matabiau</td>\n",
              "      <td>87611004</td>\n",
              "      <td>Nantes - Toulouse Matabiau</td>\n",
              "      <td>782.081</td>\n",
              "      <td>2.119440</td>\n",
              "      <td>6.358319</td>\n",
              "      <td>150.941633</td>\n",
              "      <td>50.313878</td>\n",
              "    </tr>\n",
              "    <tr>\n",
              "      <th>4</th>\n",
              "      <td>Paris/Province</td>\n",
              "      <td>Paris Gare de Lyon</td>\n",
              "      <td>87686006</td>\n",
              "      <td>Avignon TGV</td>\n",
              "      <td>87318964</td>\n",
              "      <td>Paris Gare de Lyon - Avignon TGV</td>\n",
              "      <td>661.020</td>\n",
              "      <td>1.791364</td>\n",
              "      <td>5.374093</td>\n",
              "      <td>127.576860</td>\n",
              "      <td>42.525620</td>\n",
              "    </tr>\n",
              "    <tr>\n",
              "      <th>...</th>\n",
              "      <td>...</td>\n",
              "      <td>...</td>\n",
              "      <td>...</td>\n",
              "      <td>...</td>\n",
              "      <td>...</td>\n",
              "      <td>...</td>\n",
              "      <td>...</td>\n",
              "      <td>...</td>\n",
              "      <td>...</td>\n",
              "      <td>...</td>\n",
              "      <td>...</td>\n",
              "    </tr>\n",
              "    <tr>\n",
              "      <th>106</th>\n",
              "      <td>Paris/Province</td>\n",
              "      <td>Paris Gare de Lyon</td>\n",
              "      <td>87686006</td>\n",
              "      <td>Nice</td>\n",
              "      <td>87756056</td>\n",
              "      <td>Paris Gare de Lyon - Nice</td>\n",
              "      <td>971.680</td>\n",
              "      <td>2.633253</td>\n",
              "      <td>7.899758</td>\n",
              "      <td>187.534240</td>\n",
              "      <td>62.511413</td>\n",
              "    </tr>\n",
              "    <tr>\n",
              "      <th>107</th>\n",
              "      <td>Paris/Province</td>\n",
              "      <td>Paris Montparnasse</td>\n",
              "      <td>87391003</td>\n",
              "      <td>Saint-Malo</td>\n",
              "      <td>87478107</td>\n",
              "      <td>Paris Montparnasse - Saint-Malo</td>\n",
              "      <td>444.830</td>\n",
              "      <td>1.205489</td>\n",
              "      <td>3.616468</td>\n",
              "      <td>85.852190</td>\n",
              "      <td>28.617397</td>\n",
              "    </tr>\n",
              "    <tr>\n",
              "      <th>108</th>\n",
              "      <td>Paris/Province</td>\n",
              "      <td>Paris Gare de Lyon</td>\n",
              "      <td>87686006</td>\n",
              "      <td>Valence TGV Rhône-Alpes Sud</td>\n",
              "      <td>87763029</td>\n",
              "      <td>Paris Gare de Lyon - Valence TGV Rhône-Alpes Sud</td>\n",
              "      <td>527.124</td>\n",
              "      <td>1.428506</td>\n",
              "      <td>4.285518</td>\n",
              "      <td>101.734932</td>\n",
              "      <td>33.911644</td>\n",
              "    </tr>\n",
              "    <tr>\n",
              "      <th>109</th>\n",
              "      <td>Province/Province</td>\n",
              "      <td>Strasbourg</td>\n",
              "      <td>87212027</td>\n",
              "      <td>Marne-la-Vallée Chessy</td>\n",
              "      <td>87111849</td>\n",
              "      <td>Strasbourg - Marne-la-Vallée Chessy</td>\n",
              "      <td>428.817</td>\n",
              "      <td>1.162094</td>\n",
              "      <td>3.486282</td>\n",
              "      <td>82.761681</td>\n",
              "      <td>27.587227</td>\n",
              "    </tr>\n",
              "    <tr>\n",
              "      <th>110</th>\n",
              "      <td>Province/Province</td>\n",
              "      <td>Strasbourg</td>\n",
              "      <td>87212027</td>\n",
              "      <td>Nantes</td>\n",
              "      <td>87481002</td>\n",
              "      <td>Strasbourg - Nantes</td>\n",
              "      <td>862.949</td>\n",
              "      <td>2.338592</td>\n",
              "      <td>7.015775</td>\n",
              "      <td>166.549157</td>\n",
              "      <td>55.516386</td>\n",
              "    </tr>\n",
              "  </tbody>\n",
              "</table>\n",
              "<p>111 rows × 11 columns</p>\n",
              "</div>"
            ],
            "text/plain": [
              "        Type de trajet              Origine  Origine_uic  \\\n",
              "0    Province/Province  Bordeaux Saint-Jean     87581009   \n",
              "1    Province/Province  Bordeaux Saint-Jean     87581009   \n",
              "2    Province/Province               Nantes     87481002   \n",
              "3    Province/Province               Nantes     87481002   \n",
              "4       Paris/Province   Paris Gare de Lyon     87686006   \n",
              "..                 ...                  ...          ...   \n",
              "106     Paris/Province   Paris Gare de Lyon     87686006   \n",
              "107     Paris/Province   Paris Montparnasse     87391003   \n",
              "108     Paris/Province   Paris Gare de Lyon     87686006   \n",
              "109  Province/Province           Strasbourg     87212027   \n",
              "110  Province/Province           Strasbourg     87212027   \n",
              "\n",
              "                     Destination  Destination_uic  \\\n",
              "0          Champagne-Ardenne TGV         87171926   \n",
              "1                   Lorraine TGV         87142109   \n",
              "2                          Brest         87474007   \n",
              "3              Toulouse Matabiau         87611004   \n",
              "4                    Avignon TGV         87318964   \n",
              "..                           ...              ...   \n",
              "106                         Nice         87756056   \n",
              "107                   Saint-Malo         87478107   \n",
              "108  Valence TGV Rhône-Alpes Sud         87763029   \n",
              "109       Marne-la-Vallée Chessy         87111849   \n",
              "110                       Nantes         87481002   \n",
              "\n",
              "                                              Liaison  Distance (km)  \\\n",
              "0         Bordeaux Saint-Jean - Champagne-Ardenne TGV        700.061   \n",
              "1                  Bordeaux Saint-Jean - Lorraine TGV        867.618   \n",
              "2                                      Nantes - Brest        593.333   \n",
              "3                          Nantes - Toulouse Matabiau        782.081   \n",
              "4                    Paris Gare de Lyon - Avignon TGV        661.020   \n",
              "..                                                ...            ...   \n",
              "106                         Paris Gare de Lyon - Nice        971.680   \n",
              "107                   Paris Montparnasse - Saint-Malo        444.830   \n",
              "108  Paris Gare de Lyon - Valence TGV Rhône-Alpes Sud        527.124   \n",
              "109               Strasbourg - Marne-la-Vallée Chessy        428.817   \n",
              "110                               Strasbourg - Nantes        862.949   \n",
              "\n",
              "     TGV (1 pers.) - Empreinte CO2e (kgCO2e/voyageur)  \\\n",
              "0                                            1.897165   \n",
              "1                                            2.351245   \n",
              "2                                            1.607932   \n",
              "3                                            2.119440   \n",
              "4                                            1.791364   \n",
              "..                                                ...   \n",
              "106                                          2.633253   \n",
              "107                                          1.205489   \n",
              "108                                          1.428506   \n",
              "109                                          1.162094   \n",
              "110                                          2.338592   \n",
              "\n",
              "     TGV (3 pers.) - Empreinte CO2e (kgCO2e/voyageur)  \\\n",
              "0                                            5.691496   \n",
              "1                                            7.053734   \n",
              "2                                            4.823797   \n",
              "3                                            6.358319   \n",
              "4                                            5.374093   \n",
              "..                                                ...   \n",
              "106                                          7.899758   \n",
              "107                                          3.616468   \n",
              "108                                          4.285518   \n",
              "109                                          3.486282   \n",
              "110                                          7.015775   \n",
              "\n",
              "     Voiture (autosolisme 1 pers.) - Empreinte CO2e (kgCO2e/voyageur)  \\\n",
              "0                                           135.111773                  \n",
              "1                                           167.450274                  \n",
              "2                                            76.912623                  \n",
              "3                                           150.941633                  \n",
              "4                                           127.576860                  \n",
              "..                                                 ...                  \n",
              "106                                         187.534240                  \n",
              "107                                          85.852190                  \n",
              "108                                         101.734932                  \n",
              "109                                          82.761681                  \n",
              "110                                         166.549157                  \n",
              "\n",
              "     Voiture (covoiturage 3 pers.) - Empreinte CO2e (kgCO2e/voyageur)  \n",
              "0                                            45.037258                 \n",
              "1                                            55.816758                 \n",
              "2                                            25.637541                 \n",
              "3                                            50.313878                 \n",
              "4                                            42.525620                 \n",
              "..                                                 ...                 \n",
              "106                                          62.511413                 \n",
              "107                                          28.617397                 \n",
              "108                                          33.911644                 \n",
              "109                                          27.587227                 \n",
              "110                                          55.516386                 \n",
              "\n",
              "[111 rows x 11 columns]"
            ]
          },
          "execution_count": 83,
          "metadata": {},
          "output_type": "execute_result"
        }
      ],
      "source": [
        "df_sncf"
      ]
    },
    {
      "cell_type": "code",
      "execution_count": 84,
      "metadata": {
        "id": "01CtJpZn0wF6"
      },
      "outputs": [],
      "source": [
        "df_sncf = df_sncf[['Distance (km)','TGV (1 pers.) - Empreinte CO2e (kgCO2e/voyageur)']]"
      ]
    },
    {
      "cell_type": "code",
      "execution_count": 85,
      "metadata": {
        "colab": {
          "base_uri": "https://localhost:8080/",
          "height": 112
        },
        "id": "IJEgqlE50zuQ",
        "outputId": "9e42b9ec-f876-41b3-9d5e-13a6012f695e"
      },
      "outputs": [
        {
          "data": {
            "text/html": [
              "<div>\n",
              "<style scoped>\n",
              "    .dataframe tbody tr th:only-of-type {\n",
              "        vertical-align: middle;\n",
              "    }\n",
              "\n",
              "    .dataframe tbody tr th {\n",
              "        vertical-align: top;\n",
              "    }\n",
              "\n",
              "    .dataframe thead th {\n",
              "        text-align: right;\n",
              "    }\n",
              "</style>\n",
              "<table border=\"1\" class=\"dataframe\">\n",
              "  <thead>\n",
              "    <tr style=\"text-align: right;\">\n",
              "      <th></th>\n",
              "      <th>Distance (km)</th>\n",
              "      <th>TGV (1 pers.) - Empreinte CO2e (kgCO2e/voyageur)</th>\n",
              "    </tr>\n",
              "  </thead>\n",
              "  <tbody>\n",
              "    <tr>\n",
              "      <th>Distance (km)</th>\n",
              "      <td>1.0</td>\n",
              "      <td>1.0</td>\n",
              "    </tr>\n",
              "    <tr>\n",
              "      <th>TGV (1 pers.) - Empreinte CO2e (kgCO2e/voyageur)</th>\n",
              "      <td>1.0</td>\n",
              "      <td>1.0</td>\n",
              "    </tr>\n",
              "  </tbody>\n",
              "</table>\n",
              "</div>"
            ],
            "text/plain": [
              "                                                  Distance (km)  \\\n",
              "Distance (km)                                               1.0   \n",
              "TGV (1 pers.) - Empreinte CO2e (kgCO2e/voyageur)            1.0   \n",
              "\n",
              "                                                  TGV (1 pers.) - Empreinte CO2e (kgCO2e/voyageur)  \n",
              "Distance (km)                                                                                  1.0  \n",
              "TGV (1 pers.) - Empreinte CO2e (kgCO2e/voyageur)                                               1.0  "
            ]
          },
          "execution_count": 85,
          "metadata": {},
          "output_type": "execute_result"
        }
      ],
      "source": [
        "df_sncf.corr() #En considérant la corrélation, ce jeu de données semble être idéal pour effectuer une régression linéaire."
      ]
    },
    {
      "cell_type": "code",
      "execution_count": 86,
      "metadata": {
        "colab": {
          "base_uri": "https://localhost:8080/",
          "height": 206
        },
        "id": "vcvhYOeI04mA",
        "outputId": "72329c24-b4b6-4fdd-c58b-aef6389db9d0"
      },
      "outputs": [
        {
          "data": {
            "text/html": [
              "<div>\n",
              "<style scoped>\n",
              "    .dataframe tbody tr th:only-of-type {\n",
              "        vertical-align: middle;\n",
              "    }\n",
              "\n",
              "    .dataframe tbody tr th {\n",
              "        vertical-align: top;\n",
              "    }\n",
              "\n",
              "    .dataframe thead th {\n",
              "        text-align: right;\n",
              "    }\n",
              "</style>\n",
              "<table border=\"1\" class=\"dataframe\">\n",
              "  <thead>\n",
              "    <tr style=\"text-align: right;\">\n",
              "      <th></th>\n",
              "      <th>Distance (km)</th>\n",
              "      <th>TGV (1 pers.) - Empreinte CO2e (kgCO2e/voyageur)</th>\n",
              "    </tr>\n",
              "  </thead>\n",
              "  <tbody>\n",
              "    <tr>\n",
              "      <th>0</th>\n",
              "      <td>700.061</td>\n",
              "      <td>1.897165</td>\n",
              "    </tr>\n",
              "    <tr>\n",
              "      <th>1</th>\n",
              "      <td>867.618</td>\n",
              "      <td>2.351245</td>\n",
              "    </tr>\n",
              "    <tr>\n",
              "      <th>2</th>\n",
              "      <td>593.333</td>\n",
              "      <td>1.607932</td>\n",
              "    </tr>\n",
              "    <tr>\n",
              "      <th>3</th>\n",
              "      <td>782.081</td>\n",
              "      <td>2.119440</td>\n",
              "    </tr>\n",
              "    <tr>\n",
              "      <th>4</th>\n",
              "      <td>661.020</td>\n",
              "      <td>1.791364</td>\n",
              "    </tr>\n",
              "  </tbody>\n",
              "</table>\n",
              "</div>"
            ],
            "text/plain": [
              "   Distance (km)  TGV (1 pers.) - Empreinte CO2e (kgCO2e/voyageur)\n",
              "0        700.061                                          1.897165\n",
              "1        867.618                                          2.351245\n",
              "2        593.333                                          1.607932\n",
              "3        782.081                                          2.119440\n",
              "4        661.020                                          1.791364"
            ]
          },
          "execution_count": 86,
          "metadata": {},
          "output_type": "execute_result"
        }
      ],
      "source": [
        "df_sncf.head()"
      ]
    },
    {
      "cell_type": "code",
      "execution_count": 87,
      "metadata": {
        "colab": {
          "base_uri": "https://localhost:8080/"
        },
        "id": "iVU81x0A06QY",
        "outputId": "96b782b3-3c39-4c09-84cf-74f74c5521cd"
      },
      "outputs": [
        {
          "name": "stdout",
          "output_type": "stream",
          "text": [
            "<class 'pandas.core.frame.DataFrame'>\n",
            "RangeIndex: 111 entries, 0 to 110\n",
            "Data columns (total 2 columns):\n",
            " #   Column                                            Non-Null Count  Dtype  \n",
            "---  ------                                            --------------  -----  \n",
            " 0   Distance (km)                                     111 non-null    float64\n",
            " 1   TGV (1 pers.) - Empreinte CO2e (kgCO2e/voyageur)  111 non-null    float64\n",
            "dtypes: float64(2)\n",
            "memory usage: 1.9 KB\n"
          ]
        }
      ],
      "source": [
        "df_sncf.info()"
      ]
    },
    {
      "cell_type": "code",
      "execution_count": 88,
      "metadata": {
        "id": "Eoaf4WXO090j"
      },
      "outputs": [],
      "source": [
        "# Shuffle the DataFrame\n",
        "df_sncf_shuffled = shuffle(df_sncf, random_state=200)\n",
        "\n",
        "# Split the shuffled DataFrame into train and test\n",
        "train = df_sncf_shuffled.sample(frac=0.8, random_state=200) # type: ignore\n",
        "test = df_sncf_shuffled[~df_sncf_shuffled.index.isin(train.index)]\n",
        "\n",
        "# Reset the indices for both train and test DataFrames\n",
        "train = train.reset_index(drop=True)\n",
        "test = test.reset_index(drop=True)\n"
      ]
    },
    {
      "cell_type": "code",
      "execution_count": 89,
      "metadata": {
        "colab": {
          "base_uri": "https://localhost:8080/",
          "height": 423
        },
        "id": "hxnoTuIL1CPc",
        "outputId": "7f58e317-8600-46ab-b983-aa0cf285a1b3"
      },
      "outputs": [
        {
          "data": {
            "text/html": [
              "<div>\n",
              "<style scoped>\n",
              "    .dataframe tbody tr th:only-of-type {\n",
              "        vertical-align: middle;\n",
              "    }\n",
              "\n",
              "    .dataframe tbody tr th {\n",
              "        vertical-align: top;\n",
              "    }\n",
              "\n",
              "    .dataframe thead th {\n",
              "        text-align: right;\n",
              "    }\n",
              "</style>\n",
              "<table border=\"1\" class=\"dataframe\">\n",
              "  <thead>\n",
              "    <tr style=\"text-align: right;\">\n",
              "      <th></th>\n",
              "      <th>Distance (km)</th>\n",
              "      <th>TGV (1 pers.) - Empreinte CO2e (kgCO2e/voyageur)</th>\n",
              "    </tr>\n",
              "  </thead>\n",
              "  <tbody>\n",
              "    <tr>\n",
              "      <th>0</th>\n",
              "      <td>314.090</td>\n",
              "      <td>0.851184</td>\n",
              "    </tr>\n",
              "    <tr>\n",
              "      <th>1</th>\n",
              "      <td>1105.927</td>\n",
              "      <td>2.997062</td>\n",
              "    </tr>\n",
              "    <tr>\n",
              "      <th>2</th>\n",
              "      <td>593.333</td>\n",
              "      <td>1.607932</td>\n",
              "    </tr>\n",
              "    <tr>\n",
              "      <th>3</th>\n",
              "      <td>283.752</td>\n",
              "      <td>0.768968</td>\n",
              "    </tr>\n",
              "    <tr>\n",
              "      <th>4</th>\n",
              "      <td>290.806</td>\n",
              "      <td>0.788084</td>\n",
              "    </tr>\n",
              "    <tr>\n",
              "      <th>...</th>\n",
              "      <td>...</td>\n",
              "      <td>...</td>\n",
              "    </tr>\n",
              "    <tr>\n",
              "      <th>84</th>\n",
              "      <td>609.253</td>\n",
              "      <td>1.651076</td>\n",
              "    </tr>\n",
              "    <tr>\n",
              "      <th>85</th>\n",
              "      <td>595.333</td>\n",
              "      <td>1.613352</td>\n",
              "    </tr>\n",
              "    <tr>\n",
              "      <th>86</th>\n",
              "      <td>525.960</td>\n",
              "      <td>1.425352</td>\n",
              "    </tr>\n",
              "    <tr>\n",
              "      <th>87</th>\n",
              "      <td>867.618</td>\n",
              "      <td>2.351245</td>\n",
              "    </tr>\n",
              "    <tr>\n",
              "      <th>88</th>\n",
              "      <td>734.758</td>\n",
              "      <td>1.991194</td>\n",
              "    </tr>\n",
              "  </tbody>\n",
              "</table>\n",
              "<p>89 rows × 2 columns</p>\n",
              "</div>"
            ],
            "text/plain": [
              "    Distance (km)  TGV (1 pers.) - Empreinte CO2e (kgCO2e/voyageur)\n",
              "0         314.090                                          0.851184\n",
              "1        1105.927                                          2.997062\n",
              "2         593.333                                          1.607932\n",
              "3         283.752                                          0.768968\n",
              "4         290.806                                          0.788084\n",
              "..            ...                                               ...\n",
              "84        609.253                                          1.651076\n",
              "85        595.333                                          1.613352\n",
              "86        525.960                                          1.425352\n",
              "87        867.618                                          2.351245\n",
              "88        734.758                                          1.991194\n",
              "\n",
              "[89 rows x 2 columns]"
            ]
          },
          "execution_count": 89,
          "metadata": {},
          "output_type": "execute_result"
        }
      ],
      "source": [
        "train"
      ]
    },
    {
      "cell_type": "code",
      "execution_count": 90,
      "metadata": {
        "colab": {
          "base_uri": "https://localhost:8080/",
          "height": 739
        },
        "id": "NqQJM4SM1Flr",
        "outputId": "a6ddba2c-d28b-4867-d39e-8fb5c528307d"
      },
      "outputs": [
        {
          "data": {
            "text/html": [
              "<div>\n",
              "<style scoped>\n",
              "    .dataframe tbody tr th:only-of-type {\n",
              "        vertical-align: middle;\n",
              "    }\n",
              "\n",
              "    .dataframe tbody tr th {\n",
              "        vertical-align: top;\n",
              "    }\n",
              "\n",
              "    .dataframe thead th {\n",
              "        text-align: right;\n",
              "    }\n",
              "</style>\n",
              "<table border=\"1\" class=\"dataframe\">\n",
              "  <thead>\n",
              "    <tr style=\"text-align: right;\">\n",
              "      <th></th>\n",
              "      <th>Distance (km)</th>\n",
              "      <th>TGV (1 pers.) - Empreinte CO2e (kgCO2e/voyageur)</th>\n",
              "    </tr>\n",
              "  </thead>\n",
              "  <tbody>\n",
              "    <tr>\n",
              "      <th>0</th>\n",
              "      <td>496.010</td>\n",
              "      <td>1.344187</td>\n",
              "    </tr>\n",
              "    <tr>\n",
              "      <th>1</th>\n",
              "      <td>584.182</td>\n",
              "      <td>1.583133</td>\n",
              "    </tr>\n",
              "    <tr>\n",
              "      <th>2</th>\n",
              "      <td>429.496</td>\n",
              "      <td>1.163934</td>\n",
              "    </tr>\n",
              "    <tr>\n",
              "      <th>3</th>\n",
              "      <td>537.130</td>\n",
              "      <td>1.455622</td>\n",
              "    </tr>\n",
              "    <tr>\n",
              "      <th>4</th>\n",
              "      <td>469.429</td>\n",
              "      <td>1.272153</td>\n",
              "    </tr>\n",
              "    <tr>\n",
              "      <th>5</th>\n",
              "      <td>560.633</td>\n",
              "      <td>1.519315</td>\n",
              "    </tr>\n",
              "    <tr>\n",
              "      <th>6</th>\n",
              "      <td>694.440</td>\n",
              "      <td>1.881932</td>\n",
              "    </tr>\n",
              "    <tr>\n",
              "      <th>7</th>\n",
              "      <td>489.554</td>\n",
              "      <td>1.326691</td>\n",
              "    </tr>\n",
              "    <tr>\n",
              "      <th>8</th>\n",
              "      <td>803.684</td>\n",
              "      <td>2.177984</td>\n",
              "    </tr>\n",
              "    <tr>\n",
              "      <th>9</th>\n",
              "      <td>201.678</td>\n",
              "      <td>0.546547</td>\n",
              "    </tr>\n",
              "    <tr>\n",
              "      <th>10</th>\n",
              "      <td>661.020</td>\n",
              "      <td>1.791364</td>\n",
              "    </tr>\n",
              "    <tr>\n",
              "      <th>11</th>\n",
              "      <td>900.334</td>\n",
              "      <td>2.439905</td>\n",
              "    </tr>\n",
              "    <tr>\n",
              "      <th>12</th>\n",
              "      <td>908.650</td>\n",
              "      <td>2.462442</td>\n",
              "    </tr>\n",
              "    <tr>\n",
              "      <th>13</th>\n",
              "      <td>782.081</td>\n",
              "      <td>2.119440</td>\n",
              "    </tr>\n",
              "    <tr>\n",
              "      <th>14</th>\n",
              "      <td>654.794</td>\n",
              "      <td>1.774492</td>\n",
              "    </tr>\n",
              "    <tr>\n",
              "      <th>15</th>\n",
              "      <td>343.568</td>\n",
              "      <td>0.931069</td>\n",
              "    </tr>\n",
              "    <tr>\n",
              "      <th>16</th>\n",
              "      <td>527.124</td>\n",
              "      <td>1.428506</td>\n",
              "    </tr>\n",
              "    <tr>\n",
              "      <th>17</th>\n",
              "      <td>608.338</td>\n",
              "      <td>1.648596</td>\n",
              "    </tr>\n",
              "    <tr>\n",
              "      <th>18</th>\n",
              "      <td>645.356</td>\n",
              "      <td>1.748915</td>\n",
              "    </tr>\n",
              "    <tr>\n",
              "      <th>19</th>\n",
              "      <td>546.908</td>\n",
              "      <td>1.482121</td>\n",
              "    </tr>\n",
              "    <tr>\n",
              "      <th>20</th>\n",
              "      <td>807.174</td>\n",
              "      <td>2.187442</td>\n",
              "    </tr>\n",
              "    <tr>\n",
              "      <th>21</th>\n",
              "      <td>531.951</td>\n",
              "      <td>1.441587</td>\n",
              "    </tr>\n",
              "  </tbody>\n",
              "</table>\n",
              "</div>"
            ],
            "text/plain": [
              "    Distance (km)  TGV (1 pers.) - Empreinte CO2e (kgCO2e/voyageur)\n",
              "0         496.010                                          1.344187\n",
              "1         584.182                                          1.583133\n",
              "2         429.496                                          1.163934\n",
              "3         537.130                                          1.455622\n",
              "4         469.429                                          1.272153\n",
              "5         560.633                                          1.519315\n",
              "6         694.440                                          1.881932\n",
              "7         489.554                                          1.326691\n",
              "8         803.684                                          2.177984\n",
              "9         201.678                                          0.546547\n",
              "10        661.020                                          1.791364\n",
              "11        900.334                                          2.439905\n",
              "12        908.650                                          2.462442\n",
              "13        782.081                                          2.119440\n",
              "14        654.794                                          1.774492\n",
              "15        343.568                                          0.931069\n",
              "16        527.124                                          1.428506\n",
              "17        608.338                                          1.648596\n",
              "18        645.356                                          1.748915\n",
              "19        546.908                                          1.482121\n",
              "20        807.174                                          2.187442\n",
              "21        531.951                                          1.441587"
            ]
          },
          "execution_count": 90,
          "metadata": {},
          "output_type": "execute_result"
        }
      ],
      "source": [
        "test"
      ]
    },
    {
      "cell_type": "code",
      "execution_count": 91,
      "metadata": {
        "id": "PwIfQrWXPjG4"
      },
      "outputs": [],
      "source": [
        "test = test.rename(columns={'TGV (1 pers.) - Empreinte CO2e (kgCO2e/voyageur)': 'kgCO2e/voyageur'})\n",
        "train = train.rename(columns={'TGV (1 pers.) - Empreinte CO2e (kgCO2e/voyageur)': 'kgCO2e/voyageur'})"
      ]
    },
    {
      "cell_type": "code",
      "execution_count": 92,
      "metadata": {
        "colab": {
          "base_uri": "https://localhost:8080/",
          "height": 423
        },
        "id": "JAfm0y4XTnVK",
        "outputId": "a89fd423-57dc-44f6-faf2-04b570a26782"
      },
      "outputs": [
        {
          "data": {
            "text/html": [
              "<div>\n",
              "<style scoped>\n",
              "    .dataframe tbody tr th:only-of-type {\n",
              "        vertical-align: middle;\n",
              "    }\n",
              "\n",
              "    .dataframe tbody tr th {\n",
              "        vertical-align: top;\n",
              "    }\n",
              "\n",
              "    .dataframe thead th {\n",
              "        text-align: right;\n",
              "    }\n",
              "</style>\n",
              "<table border=\"1\" class=\"dataframe\">\n",
              "  <thead>\n",
              "    <tr style=\"text-align: right;\">\n",
              "      <th></th>\n",
              "      <th>Distance (km)</th>\n",
              "      <th>kgCO2e/voyageur</th>\n",
              "    </tr>\n",
              "  </thead>\n",
              "  <tbody>\n",
              "    <tr>\n",
              "      <th>0</th>\n",
              "      <td>314.090</td>\n",
              "      <td>0.851184</td>\n",
              "    </tr>\n",
              "    <tr>\n",
              "      <th>1</th>\n",
              "      <td>1105.927</td>\n",
              "      <td>2.997062</td>\n",
              "    </tr>\n",
              "    <tr>\n",
              "      <th>2</th>\n",
              "      <td>593.333</td>\n",
              "      <td>1.607932</td>\n",
              "    </tr>\n",
              "    <tr>\n",
              "      <th>3</th>\n",
              "      <td>283.752</td>\n",
              "      <td>0.768968</td>\n",
              "    </tr>\n",
              "    <tr>\n",
              "      <th>4</th>\n",
              "      <td>290.806</td>\n",
              "      <td>0.788084</td>\n",
              "    </tr>\n",
              "    <tr>\n",
              "      <th>...</th>\n",
              "      <td>...</td>\n",
              "      <td>...</td>\n",
              "    </tr>\n",
              "    <tr>\n",
              "      <th>84</th>\n",
              "      <td>609.253</td>\n",
              "      <td>1.651076</td>\n",
              "    </tr>\n",
              "    <tr>\n",
              "      <th>85</th>\n",
              "      <td>595.333</td>\n",
              "      <td>1.613352</td>\n",
              "    </tr>\n",
              "    <tr>\n",
              "      <th>86</th>\n",
              "      <td>525.960</td>\n",
              "      <td>1.425352</td>\n",
              "    </tr>\n",
              "    <tr>\n",
              "      <th>87</th>\n",
              "      <td>867.618</td>\n",
              "      <td>2.351245</td>\n",
              "    </tr>\n",
              "    <tr>\n",
              "      <th>88</th>\n",
              "      <td>734.758</td>\n",
              "      <td>1.991194</td>\n",
              "    </tr>\n",
              "  </tbody>\n",
              "</table>\n",
              "<p>89 rows × 2 columns</p>\n",
              "</div>"
            ],
            "text/plain": [
              "    Distance (km)  kgCO2e/voyageur\n",
              "0         314.090         0.851184\n",
              "1        1105.927         2.997062\n",
              "2         593.333         1.607932\n",
              "3         283.752         0.768968\n",
              "4         290.806         0.788084\n",
              "..            ...              ...\n",
              "84        609.253         1.651076\n",
              "85        595.333         1.613352\n",
              "86        525.960         1.425352\n",
              "87        867.618         2.351245\n",
              "88        734.758         1.991194\n",
              "\n",
              "[89 rows x 2 columns]"
            ]
          },
          "execution_count": 92,
          "metadata": {},
          "output_type": "execute_result"
        }
      ],
      "source": [
        "train"
      ]
    },
    {
      "cell_type": "code",
      "execution_count": 93,
      "metadata": {
        "id": "E_X-xs6jOnDA"
      },
      "outputs": [],
      "source": [
        "name_feature = 'Distance (km)' #Variable explicative, indépendante\n",
        "name_target = 'kgCO2e/voyageur'#Variable expliqué, dépendante,à prédire\n",
        "m = train.shape[0] #Nombre de lignes, pour les variables\n",
        "n = df_sncf.columns.shape[0] - 1 #Nombres de features"
      ]
    },
    {
      "cell_type": "code",
      "execution_count": 94,
      "metadata": {
        "id": "OEvRo7IgzLAf"
      },
      "outputs": [],
      "source": [
        "def matrix_X(data,name_feature,m,n):\n",
        "  X = np.array([data[name_feature]])\n",
        "  ONES = np.ones_like(X)\n",
        "  X = np.stack((X,ONES),axis=-1).reshape(m,(n+1))\n",
        "  return X"
      ]
    },
    {
      "cell_type": "code",
      "execution_count": 95,
      "metadata": {
        "id": "ONswr8j-DnXn"
      },
      "outputs": [],
      "source": [
        "def matrix_Y(data,name_target,m):\n",
        "  Y = np.array([data[name_target]])\n",
        "  Y = Y.reshape(m,1)\n",
        "  return Y"
      ]
    },
    {
      "cell_type": "code",
      "execution_count": 96,
      "metadata": {
        "id": "jKGRJMUgAAy0"
      },
      "outputs": [],
      "source": [
        "def matrix_theta(n):\n",
        "  np.random.seed(142)\n",
        "  THETA = np.random.randn(n+1,1)\n",
        "  return THETA"
      ]
    },
    {
      "cell_type": "code",
      "execution_count": 97,
      "metadata": {
        "id": "Cd5r4sblBnOf"
      },
      "outputs": [],
      "source": [
        "def matrix_F(X,THETA):\n",
        "  F = X.dot(THETA)\n",
        "  return F"
      ]
    },
    {
      "cell_type": "code",
      "execution_count": 98,
      "metadata": {
        "id": "8k_Ok5puFIgw"
      },
      "outputs": [],
      "source": [
        "def calculate_J(X,Y,F,m):\n",
        "  J = 1/2 * m * np.sum((F - Y)**2)\n",
        "  return J"
      ]
    },
    {
      "cell_type": "code",
      "execution_count": 99,
      "metadata": {
        "id": "icdSJwGOkWun"
      },
      "outputs": [],
      "source": [
        "def metrics(X,Y,F,m):\n",
        "  mse = calculate_J(X,Y,F,m)\n",
        "  rmse = math.sqrt(mse)\n",
        "  dict_metrics = {'MSE':mse,'RMSE':rmse}\n",
        "  df_metrics = pd.Series(dict_metrics)\n",
        "  return df_metrics"
      ]
    },
    {
      "cell_type": "code",
      "execution_count": 100,
      "metadata": {
        "id": "ARNTnjU6upcM"
      },
      "outputs": [],
      "source": [
        "def store_the_good_coefficients(THETA, rmse):\n",
        "    # Charger le DataFrame depuis le fichier CSV s'il existe\n",
        "    try:\n",
        "        coefficients_df = pd.read_csv('/content/coefficient.csv')\n",
        "    except FileNotFoundError:\n",
        "        coefficients_df = pd.DataFrame(columns=['θ', 'rmse à l\\'entrainement'])\n",
        "\n",
        "    # Si le DataFrame est vide ou la nouvelle RMSE est inférieure, mettre à jour et sauvegarder\n",
        "    if coefficients_df.empty or rmse < coefficients_df['rmse à l\\'entrainement'].iloc[0]:\n",
        "        coefficients_df = pd.DataFrame({'θ': [THETA], 'rmse à l\\'entrainement': [rmse]})\n",
        "        coefficients_df.to_csv(path_or_buf='data/coefficient.csv', index=False)\n",
        "\n",
        "    return coefficients_df\n"
      ]
    },
    {
      "cell_type": "code",
      "execution_count": 101,
      "metadata": {
        "id": "IGkdgGHZQAQX"
      },
      "outputs": [],
      "source": [
        "def load_theta_selected(THETA_FOR_TEST,n):\n",
        "    if type(THETA_FOR_TEST) == str:\n",
        "        THETA_FOR_TEST = THETA_FOR_TEST.replace(\"[\",\"\").replace(\"]\",\"\")\n",
        "        THETA_FOR_TEST = StringIO(THETA_FOR_TEST)\n",
        "        THETA_FOR_TEST = np.loadtxt(THETA_FOR_TEST)\n",
        "        THETA_FOR_TEST = THETA_FOR_TEST.reshape((n+1),1)\n",
        "        return THETA_FOR_TEST\n",
        "    else:\n",
        "        return THETA_FOR_TEST"
      ]
    },
    {
      "cell_type": "code",
      "execution_count": 102,
      "metadata": {
        "id": "LIkUBuIpGsvP"
      },
      "outputs": [],
      "source": [
        "def calculate_gradient(X,Y,F,m):\n",
        "  m = X.shape[0]\n",
        "  dJ_dTHETA = 1/m * X.T.dot(F - Y)\n",
        "  return dJ_dTHETA"
      ]
    },
    {
      "cell_type": "code",
      "execution_count": 103,
      "metadata": {
        "id": "sxr6B3W6qR7p"
      },
      "outputs": [],
      "source": [
        "def gradient_descent(data, alpha, epochs):\n",
        "    m = data.shape[0]\n",
        "    X = matrix_X(data=train, name_feature=name_feature, m=m,n=n)\n",
        "    Y = matrix_Y(data=train, name_target=name_target, m=m)\n",
        "    THETA = matrix_theta(n=n)\n",
        "\n",
        "    for epoch in range(epochs):\n",
        "        F = matrix_F(X=X, THETA=THETA)\n",
        "        J = calculate_J(X=X, Y=Y, F=F, m=m)\n",
        "        gradient = calculate_gradient(X=X, Y=Y, F=F, m=m)\n",
        "        THETA -= alpha * gradient\n",
        "\n",
        "    return THETA"
      ]
    },
    {
      "cell_type": "code",
      "execution_count": 104,
      "metadata": {
        "id": "4wvZiAk_6f4Z"
      },
      "outputs": [],
      "source": [
        "def draw_linear_regression_models(data, F, name_feature, name_target):\n",
        "    # Ajoutez la colonne 'Prediction' à votre DataFrame avec les prédictions du modèle\n",
        "    data['Prediction'] = F\n",
        "\n",
        "    # Trouvez les valeurs minimales et maximales pour bien calibrer l'axe y\n",
        "    y_min = min(data[name_target].min(), data['Prediction'].min())\n",
        "    y_max = max(data[name_target].max(), data['Prediction'].max())\n",
        "\n",
        "    # Affichez le nuage de points des données réelles\n",
        "    plt.scatter(data[name_feature], data[name_target], label=\"Données réelles\")\n",
        "\n",
        "    # Tracez la ligne du modèle avec les prédictions en rouge\n",
        "    plt.plot(data[name_feature], data['Prediction'], color='red', label=\"Modèle\")\n",
        "\n",
        "    # Étiquetez les axes x et y\n",
        "    plt.xlabel(name_feature)\n",
        "    plt.ylabel(name_target)\n",
        "\n",
        "    # Fixez les limites de l'axe y en fonction des valeurs minimales et maximales\n",
        "    plt.ylim(y_min, y_max)\n",
        "\n",
        "    # Ajoutez une légende pour identifier les données réelles et le modèle\n",
        "    plt.legend()\n",
        "\n",
        "    # Affichez le graphique\n",
        "    plt.show()"
      ]
    },
    {
      "cell_type": "code",
      "execution_count": 105,
      "metadata": {
        "id": "qPqlm_HV_ge7"
      },
      "outputs": [],
      "source": [
        "THETA = gradient_descent(data=train, alpha=0.00000548, epochs=3400000)\n",
        "X = matrix_X(data=train, name_feature=name_feature, m=m, n=n)\n",
        "Y = matrix_Y(data=train, name_target=name_target, m=m)\n",
        "F = matrix_F(X=X, THETA=THETA)"
      ]
    },
    {
      "cell_type": "code",
      "execution_count": 106,
      "metadata": {
        "colab": {
          "base_uri": "https://localhost:8080/"
        },
        "id": "eISUxUh9uC8M",
        "outputId": "215d622a-597d-4beb-a2ad-a946b86baa55"
      },
      "outputs": [
        {
          "data": {
            "text/plain": [
              "array([[0.00264125],\n",
              "       [0.0453298 ]])"
            ]
          },
          "execution_count": 106,
          "metadata": {},
          "output_type": "execute_result"
        }
      ],
      "source": [
        "THETA"
      ]
    },
    {
      "cell_type": "code",
      "execution_count": 107,
      "metadata": {
        "id": "86BNmsQ_jD-R"
      },
      "outputs": [],
      "source": [
        "info_metrics = metrics(X=X,Y=Y,F=F,m=m)"
      ]
    },
    {
      "cell_type": "code",
      "execution_count": 108,
      "metadata": {
        "colab": {
          "base_uri": "https://localhost:8080/"
        },
        "id": "WZWeTtpAnVNT",
        "outputId": "afbcfe0c-8ccc-4e05-cb54-e46555fe3cb2"
      },
      "outputs": [
        {
          "data": {
            "text/plain": [
              "MSE     1.306326\n",
              "RMSE    1.142946\n",
              "dtype: float64"
            ]
          },
          "execution_count": 108,
          "metadata": {},
          "output_type": "execute_result"
        }
      ],
      "source": [
        "info_metrics"
      ]
    },
    {
      "cell_type": "code",
      "execution_count": 109,
      "metadata": {
        "id": "iAnwONYrxBvP"
      },
      "outputs": [],
      "source": [
        "coefficients = store_the_good_coefficients(THETA=THETA,rmse=info_metrics['RMSE'])"
      ]
    },
    {
      "cell_type": "code",
      "execution_count": 110,
      "metadata": {},
      "outputs": [
        {
          "data": {
            "text/html": [
              "<div>\n",
              "<style scoped>\n",
              "    .dataframe tbody tr th:only-of-type {\n",
              "        vertical-align: middle;\n",
              "    }\n",
              "\n",
              "    .dataframe tbody tr th {\n",
              "        vertical-align: top;\n",
              "    }\n",
              "\n",
              "    .dataframe thead th {\n",
              "        text-align: right;\n",
              "    }\n",
              "</style>\n",
              "<table border=\"1\" class=\"dataframe\">\n",
              "  <thead>\n",
              "    <tr style=\"text-align: right;\">\n",
              "      <th></th>\n",
              "      <th>θ</th>\n",
              "      <th>rmse à l'entrainement</th>\n",
              "    </tr>\n",
              "  </thead>\n",
              "  <tbody>\n",
              "    <tr>\n",
              "      <th>0</th>\n",
              "      <td>[[0.002641245188899177], [0.04532980260257222]]</td>\n",
              "      <td>1.142946</td>\n",
              "    </tr>\n",
              "  </tbody>\n",
              "</table>\n",
              "</div>"
            ],
            "text/plain": [
              "                                                 θ  rmse à l'entrainement\n",
              "0  [[0.002641245188899177], [0.04532980260257222]]               1.142946"
            ]
          },
          "execution_count": 110,
          "metadata": {},
          "output_type": "execute_result"
        }
      ],
      "source": [
        "coefficients"
      ]
    },
    {
      "cell_type": "code",
      "execution_count": 111,
      "metadata": {
        "colab": {
          "base_uri": "https://localhost:8080/",
          "height": 449
        },
        "id": "jk_a9AmecM3u",
        "outputId": "d97a1d53-7af8-4ac9-e1da-437e442235e4"
      },
      "outputs": [
        {
          "data": {
            "image/png": "[encoded data removed]",
            "text/plain": [
              "<Figure size 640x480 with 1 Axes>"
            ]
          },
          "metadata": {},
          "output_type": "display_data"
        }
      ],
      "source": [
        "draw_linear_regression_models(train,F,name_feature,name_target)"
      ]
    },
    {
      "cell_type": "code",
      "execution_count": 112,
      "metadata": {
        "colab": {
          "base_uri": "https://localhost:8080/"
        },
        "id": "uBBUGcRihyNR",
        "outputId": "a797de8a-15c0-43f1-d8da-34d369763baa"
      },
      "outputs": [
        {
          "data": {
            "text/plain": [
              "array([[0.8749185 ],\n",
              "       [2.96635417],\n",
              "       [1.61246773],\n",
              "       [0.79478841],\n",
              "       [0.81341975],\n",
              "       [0.67089816],\n",
              "       [1.27544221],\n",
              "       [2.14245999],\n",
              "       [1.85369002],\n",
              "       [1.38547648],\n",
              "       [2.55902926],\n",
              "       [1.2202349 ],\n",
              "       [0.64026764],\n",
              "       [1.27415064],\n",
              "       [1.3362965 ],\n",
              "       [1.35701706],\n",
              "       [1.18204778],\n",
              "       [1.38522292],\n",
              "       [0.80334604],\n",
              "       [1.01106677],\n",
              "       [0.62830808],\n",
              "       [2.0778657 ],\n",
              "       [1.07359561],\n",
              "       [2.01172628],\n",
              "       [2.56698205],\n",
              "       [1.58192702],\n",
              "       [2.18054147],\n",
              "       [0.91271472],\n",
              "       [2.59676737],\n",
              "       [1.50727486],\n",
              "       [1.86528508],\n",
              "       [2.52992538],\n",
              "       [2.3245897 ],\n",
              "       [1.38899198],\n",
              "       [1.17631627],\n",
              "       [0.58441851],\n",
              "       [1.23542206],\n",
              "       [2.61177493],\n",
              "       [1.72751245],\n",
              "       [1.82188678],\n",
              "       [1.40926089],\n",
              "       [2.20728407],\n",
              "       [2.19112758],\n",
              "       [1.99684286],\n",
              "       [1.21326201],\n",
              "       [1.23237406],\n",
              "       [2.07909124],\n",
              "       [1.17794064],\n",
              "       [0.85216682],\n",
              "       [2.1967323 ],\n",
              "       [2.99438306],\n",
              "       [2.02662819],\n",
              "       [0.51740748],\n",
              "       [0.83340077],\n",
              "       [0.66292424],\n",
              "       [0.43136363],\n",
              "       [1.0395975 ],\n",
              "       [1.08179932],\n",
              "       [1.17162278],\n",
              "       [0.80301324],\n",
              "       [1.35388455],\n",
              "       [1.65280747],\n",
              "       [1.89436255],\n",
              "       [1.11543029],\n",
              "       [1.66481721],\n",
              "       [0.92542175],\n",
              "       [2.11946003],\n",
              "       [1.06443049],\n",
              "       [1.79153623],\n",
              "       [1.48017833],\n",
              "       [2.25395224],\n",
              "       [1.73372202],\n",
              "       [0.89064448],\n",
              "       [1.51409984],\n",
              "       [0.85185251],\n",
              "       [1.97555179],\n",
              "       [1.19500837],\n",
              "       [3.60931513],\n",
              "       [1.48863824],\n",
              "       [1.16435408],\n",
              "       [0.85380967],\n",
              "       [1.00661627],\n",
              "       [0.56814316],\n",
              "       [1.25949965],\n",
              "       [1.65451636],\n",
              "       [1.61775022],\n",
              "       [1.43451912],\n",
              "       [2.33692167],\n",
              "       [1.98600584]])"
            ]
          },
          "execution_count": 112,
          "metadata": {},
          "output_type": "execute_result"
        }
      ],
      "source": [
        "F #Les prédictions sur les données de train."
      ]
    },
    {
      "cell_type": "markdown",
      "metadata": {
        "id": "68-7J_PnXqZl"
      },
      "source": [
        "Ici, on utilise les données de test, donc on n'entraîne plus le modèle ; on utilise simplement les coefficients calculés (notre nouvelle matrice THETA)."
      ]
    },
    {
      "cell_type": "code",
      "execution_count": 113,
      "metadata": {
        "id": "Nr7QVr9uTN3E"
      },
      "outputs": [],
      "source": [
        "THETA = load_theta_selected(THETA_FOR_TEST=coefficients['θ'].iloc[0],n=n) #On récupère la matrice THETA qui a été stocké dans un fichier csv."
      ]
    },
    {
      "cell_type": "code",
      "execution_count": 114,
      "metadata": {
        "colab": {
          "base_uri": "https://localhost:8080/",
          "height": 449
        },
        "id": "01qaIcJ3fXLG",
        "outputId": "9855f9f3-e596-40b8-de87-86080067e74a"
      },
      "outputs": [
        {
          "data": {
            "image/png": "[encoded data removed]",
            "text/plain": [
              "<Figure size 640x480 with 1 Axes>"
            ]
          },
          "metadata": {},
          "output_type": "display_data"
        }
      ],
      "source": [
        "name_feature = 'Distance (km)' #Variable explicative, indépendante\n",
        "name_target = 'kgCO2e/voyageur'#Variable expliqué, dépendante,à prédire\n",
        "m = test.shape[0] #Nombre de lignes, pour les variables\n",
        "\n",
        "X = matrix_X(data=test, name_feature=name_feature, m=m, n=n)\n",
        "Y = matrix_Y(data=test, name_target=name_target, m=m)\n",
        "F = matrix_F(X=X, THETA=THETA)\n",
        "draw_linear_regression_models(test,F,name_feature,name_target)"
      ]
    },
    {
      "cell_type": "code",
      "execution_count": 115,
      "metadata": {
        "id": "xkUqdEn-ZR7K"
      },
      "outputs": [],
      "source": [
        "info_metrics = metrics(X=X,Y=Y,F=F,m=m)"
      ]
    },
    {
      "cell_type": "code",
      "execution_count": 116,
      "metadata": {
        "colab": {
          "base_uri": "https://localhost:8080/"
        },
        "id": "sB9_jCG9ZT-K",
        "outputId": "9e59557d-fa39-400d-9610-170e8d668bd9"
      },
      "outputs": [
        {
          "data": {
            "text/plain": [
              "MSE     0.037032\n",
              "RMSE    0.192438\n",
              "dtype: float64"
            ]
          },
          "execution_count": 116,
          "metadata": {},
          "output_type": "execute_result"
        }
      ],
      "source": [
        "info_metrics # On observe une très faible rmse même au niveau du test, le modèle c'est bien généralisé."
      ]
    },
    {
      "cell_type": "code",
      "execution_count": 117,
      "metadata": {
        "colab": {
          "base_uri": "https://localhost:8080/"
        },
        "id": "mSax1oMQWMZY",
        "outputId": "1ed6cfee-9e82-4087-b071-74e19cf09b48"
      },
      "outputs": [
        {
          "data": {
            "text/plain": [
              "array([[1.35541383],\n",
              "       [1.5882977 ],\n",
              "       [1.17973405],\n",
              "       [1.46402183],\n",
              "       [1.28520689],\n",
              "       [1.52609902],\n",
              "       [1.87951611],\n",
              "       [1.33836195],\n",
              "       [2.1680563 ],\n",
              "       [0.57801085],\n",
              "       [1.7912457 ],\n",
              "       [2.42333265],\n",
              "       [2.44529724],\n",
              "       [2.11099748],\n",
              "       [1.7748013 ],\n",
              "       [0.95277713],\n",
              "       [1.43759353],\n",
              "       [1.65209962],\n",
              "       [1.74987323],\n",
              "       [1.48984793],\n",
              "       [2.17727425],\n",
              "       [1.45034282]])"
            ]
          },
          "execution_count": 117,
          "metadata": {},
          "output_type": "execute_result"
        }
      ],
      "source": [
        "F #Les prédictions sur les données de test."
      ]
    }
  ],
  "metadata": {
    "colab": {
      "provenance": []
    },
    "kernelspec": {
      "display_name": "Python 3",
      "name": "python3"
    },
    "language_info": {
      "codemirror_mode": {
        "name": "ipython",
        "version": 3
      },
      "file_extension": ".py",
      "mimetype": "text/x-python",
      "name": "python",
      "nbconvert_exporter": "python",
      "pygments_lexer": "ipython3",
      "version": "3.12.1"
    }
  },
  "nbformat": 4,
  "nbformat_minor": 0
}
